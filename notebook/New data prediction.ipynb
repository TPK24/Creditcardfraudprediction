{
 "cells": [
  {
   "cell_type": "code",
   "execution_count": 37,
   "id": "8b1dec80-78a1-4957-9954-d05838f6ff3d",
   "metadata": {},
   "outputs": [],
   "source": [
    "import pandas as pd \n",
    "import pickle\n",
    "import warnings\n",
    "warnings.filterwarnings('ignore')\n",
    "%matplotlib inline"
   ]
  },
  {
   "cell_type": "code",
   "execution_count": 38,
   "id": "e3ec5935-674e-4cf0-8873-3d4e0a1a332f",
   "metadata": {},
   "outputs": [],
   "source": [
    "Data = pd.read_csv(\"C:\\Creditcardproject\\Creditcardfraudprediction\\data\\Cleaned credit card data.csv\")"
   ]
  },
  {
   "cell_type": "code",
   "execution_count": 39,
   "id": "ccedaf4b-3278-40fa-aee0-629ed74018f8",
   "metadata": {},
   "outputs": [
    {
     "data": {
      "text/html": [
       "<div>\n",
       "<style scoped>\n",
       "    .dataframe tbody tr th:only-of-type {\n",
       "        vertical-align: middle;\n",
       "    }\n",
       "\n",
       "    .dataframe tbody tr th {\n",
       "        vertical-align: top;\n",
       "    }\n",
       "\n",
       "    .dataframe thead th {\n",
       "        text-align: right;\n",
       "    }\n",
       "</style>\n",
       "<table border=\"1\" class=\"dataframe\">\n",
       "  <thead>\n",
       "    <tr style=\"text-align: right;\">\n",
       "      <th></th>\n",
       "      <th>Time</th>\n",
       "      <th>V1</th>\n",
       "      <th>V2</th>\n",
       "      <th>V3</th>\n",
       "      <th>V4</th>\n",
       "      <th>V5</th>\n",
       "      <th>V6</th>\n",
       "      <th>V7</th>\n",
       "      <th>V8</th>\n",
       "      <th>V9</th>\n",
       "      <th>...</th>\n",
       "      <th>V21</th>\n",
       "      <th>V22</th>\n",
       "      <th>V23</th>\n",
       "      <th>V24</th>\n",
       "      <th>V25</th>\n",
       "      <th>V26</th>\n",
       "      <th>V27</th>\n",
       "      <th>V28</th>\n",
       "      <th>Amount</th>\n",
       "      <th>Class</th>\n",
       "    </tr>\n",
       "  </thead>\n",
       "  <tbody>\n",
       "    <tr>\n",
       "      <th>533</th>\n",
       "      <td>406</td>\n",
       "      <td>-0.814054</td>\n",
       "      <td>1.538222</td>\n",
       "      <td>1.115690</td>\n",
       "      <td>-0.051667</td>\n",
       "      <td>0.092334</td>\n",
       "      <td>-1.013398</td>\n",
       "      <td>0.748851</td>\n",
       "      <td>-0.124814</td>\n",
       "      <td>-0.207407</td>\n",
       "      <td>...</td>\n",
       "      <td>-0.311452</td>\n",
       "      <td>-0.627544</td>\n",
       "      <td>-0.016469</td>\n",
       "      <td>0.363403</td>\n",
       "      <td>-0.014631</td>\n",
       "      <td>0.076914</td>\n",
       "      <td>0.467478</td>\n",
       "      <td>0.228123</td>\n",
       "      <td>1.98</td>\n",
       "      <td>0</td>\n",
       "    </tr>\n",
       "    <tr>\n",
       "      <th>534</th>\n",
       "      <td>406</td>\n",
       "      <td>-2.312227</td>\n",
       "      <td>1.951992</td>\n",
       "      <td>-1.609851</td>\n",
       "      <td>3.997906</td>\n",
       "      <td>-0.522188</td>\n",
       "      <td>-1.426545</td>\n",
       "      <td>-2.537387</td>\n",
       "      <td>1.391657</td>\n",
       "      <td>-2.770089</td>\n",
       "      <td>...</td>\n",
       "      <td>0.517232</td>\n",
       "      <td>-0.035049</td>\n",
       "      <td>-0.465211</td>\n",
       "      <td>0.320198</td>\n",
       "      <td>0.044519</td>\n",
       "      <td>0.177840</td>\n",
       "      <td>0.261145</td>\n",
       "      <td>-0.143276</td>\n",
       "      <td>0.00</td>\n",
       "      <td>1</td>\n",
       "    </tr>\n",
       "  </tbody>\n",
       "</table>\n",
       "<p>2 rows × 31 columns</p>\n",
       "</div>"
      ],
      "text/plain": [
       "     Time        V1        V2        V3        V4        V5        V6  \\\n",
       "533   406 -0.814054  1.538222  1.115690 -0.051667  0.092334 -1.013398   \n",
       "534   406 -2.312227  1.951992 -1.609851  3.997906 -0.522188 -1.426545   \n",
       "\n",
       "           V7        V8        V9  ...       V21       V22       V23  \\\n",
       "533  0.748851 -0.124814 -0.207407  ... -0.311452 -0.627544 -0.016469   \n",
       "534 -2.537387  1.391657 -2.770089  ...  0.517232 -0.035049 -0.465211   \n",
       "\n",
       "          V24       V25       V26       V27       V28  Amount  Class  \n",
       "533  0.363403 -0.014631  0.076914  0.467478  0.228123    1.98      0  \n",
       "534  0.320198  0.044519  0.177840  0.261145 -0.143276    0.00      1  \n",
       "\n",
       "[2 rows x 31 columns]"
      ]
     },
     "execution_count": 39,
     "metadata": {},
     "output_type": "execute_result"
    }
   ],
   "source": [
    "Data.iloc[533:535]"
   ]
  },
  {
   "cell_type": "code",
   "execution_count": 40,
   "id": "8b36501d-ed81-48e5-812d-bf065a0d1a28",
   "metadata": {},
   "outputs": [
    {
     "data": {
      "text/plain": [
       "533    0\n",
       "534    1\n",
       "Name: Class, dtype: int64"
      ]
     },
     "execution_count": 40,
     "metadata": {},
     "output_type": "execute_result"
    }
   ],
   "source": [
    "Data['Class'].iloc[533:535]"
   ]
  },
  {
   "cell_type": "markdown",
   "id": "4a936268-8ed7-45d2-a5e1-b38c78b0fa40",
   "metadata": {},
   "source": [
    "#### Class of the models for the random values selected in the dataset"
   ]
  },
  {
   "cell_type": "code",
   "execution_count": 41,
   "id": "87ff02ad-a74f-4ffe-856b-80745a93be84",
   "metadata": {},
   "outputs": [],
   "source": [
    "# Loading the pickle file\n",
    "pickle_model = (pickle.load(open('classifimodi.pkl','rb')))"
   ]
  },
  {
   "cell_type": "code",
   "execution_count": 42,
   "id": "d40493e9-407b-40b4-be1d-b2a1eb3b9c28",
   "metadata": {},
   "outputs": [
    {
     "data": {
      "text/plain": [
       "array([0, 1], dtype=int64)"
      ]
     },
     "execution_count": 42,
     "metadata": {},
     "output_type": "execute_result"
    }
   ],
   "source": [
    "# Predicting the data \n",
    "pickle_model.predict(Data.iloc[533:535,1:30])"
   ]
  },
  {
   "cell_type": "markdown",
   "id": "cbd83d8a-fd33-450f-96ef-973a294f193e",
   "metadata": {},
   "source": [
    "#### Trained Model Loaded from the pickled file is working on point in predicting the transactions"
   ]
  },
  {
   "cell_type": "code",
   "execution_count": null,
   "id": "42ceca07-fabd-4141-8762-f0a4e583d633",
   "metadata": {},
   "outputs": [],
   "source": []
  }
 ],
 "metadata": {
  "kernelspec": {
   "display_name": "Python 3 (ipykernel)",
   "language": "python",
   "name": "python3"
  },
  "language_info": {
   "codemirror_mode": {
    "name": "ipython",
    "version": 3
   },
   "file_extension": ".py",
   "mimetype": "text/x-python",
   "name": "python",
   "nbconvert_exporter": "python",
   "pygments_lexer": "ipython3",
   "version": "3.11.5"
  }
 },
 "nbformat": 4,
 "nbformat_minor": 5
}
