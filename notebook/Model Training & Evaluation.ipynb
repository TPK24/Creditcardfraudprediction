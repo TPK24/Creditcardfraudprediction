{
 "cells": [
  {
   "cell_type": "code",
   "execution_count": 35,
   "id": "ee7e8c20-fc06-46a9-8e13-d9c996e85b13",
   "metadata": {},
   "outputs": [],
   "source": [
    "# Task:\n",
    "# Feature Scaling \n",
    "# Balancing the Dataset\n",
    "# Model training & Evaluation\n",
    "# Feature Importance\n",
    "# Pickling the data "
   ]
  },
  {
   "cell_type": "code",
   "execution_count": 3,
   "id": "9b98e65f-4289-4de2-8f14-f8a7526bd80d",
   "metadata": {},
   "outputs": [],
   "source": [
    "import numpy as np\n",
    "import pandas as pd\n",
    "import matplotlib.pyplot as plt\n",
    "import seaborn as sns\n",
    "import warnings\n",
    "from sklearn.preprocessing import StandardScaler\n",
    "from imblearn.over_sampling import SMOTE\n",
    "from sklearn.ensemble import RandomForestClassifier\n",
    "from sklearn.metrics import accuracy_score, confusion_matrix, classification_report,roc_auc_score, roc_curve, f1_score,precision_recall_curve,auc\n",
    "from collections import Counter\n",
    "warnings.filterwarnings('ignore')\n",
    "%matplotlib inline"
   ]
  },
  {
   "cell_type": "code",
   "execution_count": 26,
   "id": "70a38a52-b506-4a9b-a4b7-c9619d3b26e6",
   "metadata": {},
   "outputs": [],
   "source": [
    "x_train = pd.read_csv(r\"C:\\Creditcardproject\\data\\x_train.csv\")\n",
    "y_train = pd.read_csv(r\"C:\\Creditcardproject\\data\\y_train.csv\")\n",
    "x_test = pd.read_csv(r\"C:\\Creditcardproject\\data\\x_test.csv\")\n",
    "y_test = pd.read_csv(r\"C:\\Creditcardproject\\data\\y_test.csv\")\n",
    "x = pd.read_csv(r\"C:\\Creditcardproject\\data\\x.csv\")"
   ]
  },
  {
   "cell_type": "markdown",
   "id": "89975b6b-9b86-4dd3-a69a-b53ab381ff96",
   "metadata": {},
   "source": [
    "## Feature Scaling"
   ]
  },
  {
   "cell_type": "markdown",
   "id": "1d1c46e8-70fe-4a03-ac69-e9e82e9570a9",
   "metadata": {},
   "source": [
    "### Using Standard scaler to scale the dataset"
   ]
  },
  {
   "cell_type": "code",
   "execution_count": 5,
   "id": "9a410043-a419-4101-86ae-b6e0d9d45a84",
   "metadata": {},
   "outputs": [
    {
     "data": {
      "text/plain": [
       "array([[ 0.35176206, -0.50079549,  0.59365959, ..., -0.13882583,\n",
       "         0.10965825,  0.50720799],\n",
       "       [-0.56663492,  0.62453953,  0.83532851, ...,  0.69914344,\n",
       "         0.61212475, -0.28952286],\n",
       "       [ 1.00615952, -0.37035759, -0.22533038, ..., -0.0777069 ,\n",
       "        -0.19692383, -0.31674647],\n",
       "       ...,\n",
       "       [ 0.6458217 , -0.02896951, -0.47948179, ...,  0.11077403,\n",
       "         0.07515426, -0.33552275],\n",
       "       [ 1.01866598, -0.08081096, -0.77053458, ..., -0.1861791 ,\n",
       "        -0.17256979, -0.19548132],\n",
       "       [-0.24273786,  0.50072703,  0.87717806, ..., -0.33570689,\n",
       "        -0.14781419, -0.35353837]])"
      ]
     },
     "execution_count": 5,
     "metadata": {},
     "output_type": "execute_result"
    }
   ],
   "source": [
    "sc = StandardScaler()\n",
    "\n",
    "x_train_scaled = sc.fit_transform(x_train)\n",
    "\n",
    "x_train_scaled"
   ]
  },
  {
   "cell_type": "markdown",
   "id": "7c13546d-3451-42da-9ec3-3f1d8cfe14a8",
   "metadata": {},
   "source": [
    "### Scaling the test data"
   ]
  },
  {
   "cell_type": "code",
   "execution_count": 6,
   "id": "c580fc9b-470c-4a54-b947-82673fd45f84",
   "metadata": {},
   "outputs": [
    {
     "data": {
      "text/plain": [
       "array([[ 0.54022723, -0.46550586,  0.1046982 , ...,  0.25227992,\n",
       "         0.12138824, -0.12766251],\n",
       "       [-2.47899334,  2.65679643, -0.60822054, ...,  1.08527463,\n",
       "        -1.33937879, -0.31422428],\n",
       "       [-0.80164059, -0.15814682,  1.02945679, ..., -1.27358447,\n",
       "        -0.76469915, -0.1690584 ],\n",
       "       ...,\n",
       "       [ 0.58747271,  0.26366402, -0.41351457, ..., -0.02650088,\n",
       "         0.07055695, -0.35049573],\n",
       "       [-0.16958496,  0.0330533 ,  0.50823603, ..., -0.81214065,\n",
       "        -0.5899514 , -0.15472598],\n",
       "       [ 0.53839829, -0.6846809 ,  1.06818845, ...,  0.32634764,\n",
       "         0.03703726, -0.32551407]])"
      ]
     },
     "execution_count": 6,
     "metadata": {},
     "output_type": "execute_result"
    }
   ],
   "source": [
    "x_test_scaled = sc.transform(x_test)\n",
    "\n",
    "x_test_scaled"
   ]
  },
  {
   "cell_type": "markdown",
   "id": "9f9fb0c9-f9a6-4908-bcb5-0d7d8992d7fb",
   "metadata": {},
   "source": [
    "#### The Reason behind scaling the train and test data seperately is to avoide the data leakage and the model will perform well when new unseen data is provided to the model. In scaling the test data i have used transform method instead of fit_transform because the model is evaluated on data that is scaled in the same way as the data it was trained on,which provides us with accurate performance"
   ]
  },
  {
   "cell_type": "markdown",
   "id": "ee21ad63-6cd0-4027-9808-ff6a443f3904",
   "metadata": {},
   "source": [
    "#### NOTE : As the dataset is imbalanced there is a need to treat the imbalanced dataset before training the model."
   ]
  },
  {
   "cell_type": "markdown",
   "id": "534e1cf2-ca26-4600-900d-9aff4caf7f38",
   "metadata": {},
   "source": [
    "# Treating Imbalanced Dataset"
   ]
  },
  {
   "cell_type": "code",
   "execution_count": 11,
   "id": "aef1ffc9-8bb5-49ee-ba1f-7f42e7ab8eb4",
   "metadata": {},
   "outputs": [],
   "source": [
    "#Balancing the Dataset using SMOTE Technique\n",
    "over_sample = SMOTE()\n",
    "\n",
    "# Balancing the class with equal distribution\n",
    "x_smote,y_smote = over_sample.fit_resample(x_train_scaled,y_train)"
   ]
  },
  {
   "cell_type": "markdown",
   "id": "5cb59451-6079-4116-a5ae-8c50bc8dd5a1",
   "metadata": {},
   "source": [
    "#### The resason behind using SMOTE over Random oversampling is to avoide duplicacy of data. SMOTE creates synthetic samples for the minority class. "
   ]
  },
  {
   "cell_type": "code",
   "execution_count": 13,
   "id": "6bc637b6-cf39-4914-b99e-bb83c5da2858",
   "metadata": {},
   "outputs": [
    {
     "name": "stdout",
     "output_type": "stream",
     "text": [
      "Y_train Imbalanced dataset Class\n",
      "0        212433\n",
      "1           361\n",
      "Name: count, dtype: int64 \n",
      "\n",
      "Y_smote Balanced dataset Class\n",
      "0        212433\n",
      "1        212433\n",
      "Name: count, dtype: int64\n"
     ]
    }
   ],
   "source": [
    "print(('Y_train Imbalanced dataset {}'.format(y_train.value_counts())),'\\n')\n",
    "print('Y_smote Balanced dataset {}'.format(y_smote.value_counts()))"
   ]
  },
  {
   "cell_type": "markdown",
   "id": "0bcf0d7b-ef2f-463a-a19e-f986bd4e0ba7",
   "metadata": {},
   "source": [
    "### In the above imbalance treatment we can see the new data is evenly balanced."
   ]
  },
  {
   "cell_type": "markdown",
   "id": "d84135a5-c2b5-404f-9776-6eb236fe13b0",
   "metadata": {},
   "source": [
    "#### NOTE : The reason behind choosing Ensemble technique (Random Forest) was based on 2 major factors 1st Outliers and 2nd complexity of data. The model was also trained on other algorithyms as well like Logistic Regression,KNN and Decision Tree but they failed to provide the expected results."
   ]
  },
  {
   "cell_type": "markdown",
   "id": "4758f787-229b-4764-acfb-81d1706f7ed3",
   "metadata": {},
   "source": [
    "# Ensemble Technique"
   ]
  },
  {
   "cell_type": "markdown",
   "id": "1f632b81-4d18-4e7a-b0f0-2c2df4c83263",
   "metadata": {},
   "source": [
    "## Random Forest Classifier [Balanced Data]"
   ]
  },
  {
   "cell_type": "code",
   "execution_count": 14,
   "id": "417172a2-9b7f-47da-8cb4-fc87f64474e5",
   "metadata": {},
   "outputs": [
    {
     "data": {
      "text/html": [
       "<style>#sk-container-id-1 {\n",
       "  /* Definition of color scheme common for light and dark mode */\n",
       "  --sklearn-color-text: black;\n",
       "  --sklearn-color-line: gray;\n",
       "  /* Definition of color scheme for unfitted estimators */\n",
       "  --sklearn-color-unfitted-level-0: #fff5e6;\n",
       "  --sklearn-color-unfitted-level-1: #f6e4d2;\n",
       "  --sklearn-color-unfitted-level-2: #ffe0b3;\n",
       "  --sklearn-color-unfitted-level-3: chocolate;\n",
       "  /* Definition of color scheme for fitted estimators */\n",
       "  --sklearn-color-fitted-level-0: #f0f8ff;\n",
       "  --sklearn-color-fitted-level-1: #d4ebff;\n",
       "  --sklearn-color-fitted-level-2: #b3dbfd;\n",
       "  --sklearn-color-fitted-level-3: cornflowerblue;\n",
       "\n",
       "  /* Specific color for light theme */\n",
       "  --sklearn-color-text-on-default-background: var(--sg-text-color, var(--theme-code-foreground, var(--jp-content-font-color1, black)));\n",
       "  --sklearn-color-background: var(--sg-background-color, var(--theme-background, var(--jp-layout-color0, white)));\n",
       "  --sklearn-color-border-box: var(--sg-text-color, var(--theme-code-foreground, var(--jp-content-font-color1, black)));\n",
       "  --sklearn-color-icon: #696969;\n",
       "\n",
       "  @media (prefers-color-scheme: dark) {\n",
       "    /* Redefinition of color scheme for dark theme */\n",
       "    --sklearn-color-text-on-default-background: var(--sg-text-color, var(--theme-code-foreground, var(--jp-content-font-color1, white)));\n",
       "    --sklearn-color-background: var(--sg-background-color, var(--theme-background, var(--jp-layout-color0, #111)));\n",
       "    --sklearn-color-border-box: var(--sg-text-color, var(--theme-code-foreground, var(--jp-content-font-color1, white)));\n",
       "    --sklearn-color-icon: #878787;\n",
       "  }\n",
       "}\n",
       "\n",
       "#sk-container-id-1 {\n",
       "  color: var(--sklearn-color-text);\n",
       "}\n",
       "\n",
       "#sk-container-id-1 pre {\n",
       "  padding: 0;\n",
       "}\n",
       "\n",
       "#sk-container-id-1 input.sk-hidden--visually {\n",
       "  border: 0;\n",
       "  clip: rect(1px 1px 1px 1px);\n",
       "  clip: rect(1px, 1px, 1px, 1px);\n",
       "  height: 1px;\n",
       "  margin: -1px;\n",
       "  overflow: hidden;\n",
       "  padding: 0;\n",
       "  position: absolute;\n",
       "  width: 1px;\n",
       "}\n",
       "\n",
       "#sk-container-id-1 div.sk-dashed-wrapped {\n",
       "  border: 1px dashed var(--sklearn-color-line);\n",
       "  margin: 0 0.4em 0.5em 0.4em;\n",
       "  box-sizing: border-box;\n",
       "  padding-bottom: 0.4em;\n",
       "  background-color: var(--sklearn-color-background);\n",
       "}\n",
       "\n",
       "#sk-container-id-1 div.sk-container {\n",
       "  /* jupyter's `normalize.less` sets `[hidden] { display: none; }`\n",
       "     but bootstrap.min.css set `[hidden] { display: none !important; }`\n",
       "     so we also need the `!important` here to be able to override the\n",
       "     default hidden behavior on the sphinx rendered scikit-learn.org.\n",
       "     See: https://github.com/scikit-learn/scikit-learn/issues/21755 */\n",
       "  display: inline-block !important;\n",
       "  position: relative;\n",
       "}\n",
       "\n",
       "#sk-container-id-1 div.sk-text-repr-fallback {\n",
       "  display: none;\n",
       "}\n",
       "\n",
       "div.sk-parallel-item,\n",
       "div.sk-serial,\n",
       "div.sk-item {\n",
       "  /* draw centered vertical line to link estimators */\n",
       "  background-image: linear-gradient(var(--sklearn-color-text-on-default-background), var(--sklearn-color-text-on-default-background));\n",
       "  background-size: 2px 100%;\n",
       "  background-repeat: no-repeat;\n",
       "  background-position: center center;\n",
       "}\n",
       "\n",
       "/* Parallel-specific style estimator block */\n",
       "\n",
       "#sk-container-id-1 div.sk-parallel-item::after {\n",
       "  content: \"\";\n",
       "  width: 100%;\n",
       "  border-bottom: 2px solid var(--sklearn-color-text-on-default-background);\n",
       "  flex-grow: 1;\n",
       "}\n",
       "\n",
       "#sk-container-id-1 div.sk-parallel {\n",
       "  display: flex;\n",
       "  align-items: stretch;\n",
       "  justify-content: center;\n",
       "  background-color: var(--sklearn-color-background);\n",
       "  position: relative;\n",
       "}\n",
       "\n",
       "#sk-container-id-1 div.sk-parallel-item {\n",
       "  display: flex;\n",
       "  flex-direction: column;\n",
       "}\n",
       "\n",
       "#sk-container-id-1 div.sk-parallel-item:first-child::after {\n",
       "  align-self: flex-end;\n",
       "  width: 50%;\n",
       "}\n",
       "\n",
       "#sk-container-id-1 div.sk-parallel-item:last-child::after {\n",
       "  align-self: flex-start;\n",
       "  width: 50%;\n",
       "}\n",
       "\n",
       "#sk-container-id-1 div.sk-parallel-item:only-child::after {\n",
       "  width: 0;\n",
       "}\n",
       "\n",
       "/* Serial-specific style estimator block */\n",
       "\n",
       "#sk-container-id-1 div.sk-serial {\n",
       "  display: flex;\n",
       "  flex-direction: column;\n",
       "  align-items: center;\n",
       "  background-color: var(--sklearn-color-background);\n",
       "  padding-right: 1em;\n",
       "  padding-left: 1em;\n",
       "}\n",
       "\n",
       "\n",
       "/* Toggleable style: style used for estimator/Pipeline/ColumnTransformer box that is\n",
       "clickable and can be expanded/collapsed.\n",
       "- Pipeline and ColumnTransformer use this feature and define the default style\n",
       "- Estimators will overwrite some part of the style using the `sk-estimator` class\n",
       "*/\n",
       "\n",
       "/* Pipeline and ColumnTransformer style (default) */\n",
       "\n",
       "#sk-container-id-1 div.sk-toggleable {\n",
       "  /* Default theme specific background. It is overwritten whether we have a\n",
       "  specific estimator or a Pipeline/ColumnTransformer */\n",
       "  background-color: var(--sklearn-color-background);\n",
       "}\n",
       "\n",
       "/* Toggleable label */\n",
       "#sk-container-id-1 label.sk-toggleable__label {\n",
       "  cursor: pointer;\n",
       "  display: block;\n",
       "  width: 100%;\n",
       "  margin-bottom: 0;\n",
       "  padding: 0.5em;\n",
       "  box-sizing: border-box;\n",
       "  text-align: center;\n",
       "}\n",
       "\n",
       "#sk-container-id-1 label.sk-toggleable__label-arrow:before {\n",
       "  /* Arrow on the left of the label */\n",
       "  content: \"▸\";\n",
       "  float: left;\n",
       "  margin-right: 0.25em;\n",
       "  color: var(--sklearn-color-icon);\n",
       "}\n",
       "\n",
       "#sk-container-id-1 label.sk-toggleable__label-arrow:hover:before {\n",
       "  color: var(--sklearn-color-text);\n",
       "}\n",
       "\n",
       "/* Toggleable content - dropdown */\n",
       "\n",
       "#sk-container-id-1 div.sk-toggleable__content {\n",
       "  max-height: 0;\n",
       "  max-width: 0;\n",
       "  overflow: hidden;\n",
       "  text-align: left;\n",
       "  /* unfitted */\n",
       "  background-color: var(--sklearn-color-unfitted-level-0);\n",
       "}\n",
       "\n",
       "#sk-container-id-1 div.sk-toggleable__content.fitted {\n",
       "  /* fitted */\n",
       "  background-color: var(--sklearn-color-fitted-level-0);\n",
       "}\n",
       "\n",
       "#sk-container-id-1 div.sk-toggleable__content pre {\n",
       "  margin: 0.2em;\n",
       "  border-radius: 0.25em;\n",
       "  color: var(--sklearn-color-text);\n",
       "  /* unfitted */\n",
       "  background-color: var(--sklearn-color-unfitted-level-0);\n",
       "}\n",
       "\n",
       "#sk-container-id-1 div.sk-toggleable__content.fitted pre {\n",
       "  /* unfitted */\n",
       "  background-color: var(--sklearn-color-fitted-level-0);\n",
       "}\n",
       "\n",
       "#sk-container-id-1 input.sk-toggleable__control:checked~div.sk-toggleable__content {\n",
       "  /* Expand drop-down */\n",
       "  max-height: 200px;\n",
       "  max-width: 100%;\n",
       "  overflow: auto;\n",
       "}\n",
       "\n",
       "#sk-container-id-1 input.sk-toggleable__control:checked~label.sk-toggleable__label-arrow:before {\n",
       "  content: \"▾\";\n",
       "}\n",
       "\n",
       "/* Pipeline/ColumnTransformer-specific style */\n",
       "\n",
       "#sk-container-id-1 div.sk-label input.sk-toggleable__control:checked~label.sk-toggleable__label {\n",
       "  color: var(--sklearn-color-text);\n",
       "  background-color: var(--sklearn-color-unfitted-level-2);\n",
       "}\n",
       "\n",
       "#sk-container-id-1 div.sk-label.fitted input.sk-toggleable__control:checked~label.sk-toggleable__label {\n",
       "  background-color: var(--sklearn-color-fitted-level-2);\n",
       "}\n",
       "\n",
       "/* Estimator-specific style */\n",
       "\n",
       "/* Colorize estimator box */\n",
       "#sk-container-id-1 div.sk-estimator input.sk-toggleable__control:checked~label.sk-toggleable__label {\n",
       "  /* unfitted */\n",
       "  background-color: var(--sklearn-color-unfitted-level-2);\n",
       "}\n",
       "\n",
       "#sk-container-id-1 div.sk-estimator.fitted input.sk-toggleable__control:checked~label.sk-toggleable__label {\n",
       "  /* fitted */\n",
       "  background-color: var(--sklearn-color-fitted-level-2);\n",
       "}\n",
       "\n",
       "#sk-container-id-1 div.sk-label label.sk-toggleable__label,\n",
       "#sk-container-id-1 div.sk-label label {\n",
       "  /* The background is the default theme color */\n",
       "  color: var(--sklearn-color-text-on-default-background);\n",
       "}\n",
       "\n",
       "/* On hover, darken the color of the background */\n",
       "#sk-container-id-1 div.sk-label:hover label.sk-toggleable__label {\n",
       "  color: var(--sklearn-color-text);\n",
       "  background-color: var(--sklearn-color-unfitted-level-2);\n",
       "}\n",
       "\n",
       "/* Label box, darken color on hover, fitted */\n",
       "#sk-container-id-1 div.sk-label.fitted:hover label.sk-toggleable__label.fitted {\n",
       "  color: var(--sklearn-color-text);\n",
       "  background-color: var(--sklearn-color-fitted-level-2);\n",
       "}\n",
       "\n",
       "/* Estimator label */\n",
       "\n",
       "#sk-container-id-1 div.sk-label label {\n",
       "  font-family: monospace;\n",
       "  font-weight: bold;\n",
       "  display: inline-block;\n",
       "  line-height: 1.2em;\n",
       "}\n",
       "\n",
       "#sk-container-id-1 div.sk-label-container {\n",
       "  text-align: center;\n",
       "}\n",
       "\n",
       "/* Estimator-specific */\n",
       "#sk-container-id-1 div.sk-estimator {\n",
       "  font-family: monospace;\n",
       "  border: 1px dotted var(--sklearn-color-border-box);\n",
       "  border-radius: 0.25em;\n",
       "  box-sizing: border-box;\n",
       "  margin-bottom: 0.5em;\n",
       "  /* unfitted */\n",
       "  background-color: var(--sklearn-color-unfitted-level-0);\n",
       "}\n",
       "\n",
       "#sk-container-id-1 div.sk-estimator.fitted {\n",
       "  /* fitted */\n",
       "  background-color: var(--sklearn-color-fitted-level-0);\n",
       "}\n",
       "\n",
       "/* on hover */\n",
       "#sk-container-id-1 div.sk-estimator:hover {\n",
       "  /* unfitted */\n",
       "  background-color: var(--sklearn-color-unfitted-level-2);\n",
       "}\n",
       "\n",
       "#sk-container-id-1 div.sk-estimator.fitted:hover {\n",
       "  /* fitted */\n",
       "  background-color: var(--sklearn-color-fitted-level-2);\n",
       "}\n",
       "\n",
       "/* Specification for estimator info (e.g. \"i\" and \"?\") */\n",
       "\n",
       "/* Common style for \"i\" and \"?\" */\n",
       "\n",
       ".sk-estimator-doc-link,\n",
       "a:link.sk-estimator-doc-link,\n",
       "a:visited.sk-estimator-doc-link {\n",
       "  float: right;\n",
       "  font-size: smaller;\n",
       "  line-height: 1em;\n",
       "  font-family: monospace;\n",
       "  background-color: var(--sklearn-color-background);\n",
       "  border-radius: 1em;\n",
       "  height: 1em;\n",
       "  width: 1em;\n",
       "  text-decoration: none !important;\n",
       "  margin-left: 1ex;\n",
       "  /* unfitted */\n",
       "  border: var(--sklearn-color-unfitted-level-1) 1pt solid;\n",
       "  color: var(--sklearn-color-unfitted-level-1);\n",
       "}\n",
       "\n",
       ".sk-estimator-doc-link.fitted,\n",
       "a:link.sk-estimator-doc-link.fitted,\n",
       "a:visited.sk-estimator-doc-link.fitted {\n",
       "  /* fitted */\n",
       "  border: var(--sklearn-color-fitted-level-1) 1pt solid;\n",
       "  color: var(--sklearn-color-fitted-level-1);\n",
       "}\n",
       "\n",
       "/* On hover */\n",
       "div.sk-estimator:hover .sk-estimator-doc-link:hover,\n",
       ".sk-estimator-doc-link:hover,\n",
       "div.sk-label-container:hover .sk-estimator-doc-link:hover,\n",
       ".sk-estimator-doc-link:hover {\n",
       "  /* unfitted */\n",
       "  background-color: var(--sklearn-color-unfitted-level-3);\n",
       "  color: var(--sklearn-color-background);\n",
       "  text-decoration: none;\n",
       "}\n",
       "\n",
       "div.sk-estimator.fitted:hover .sk-estimator-doc-link.fitted:hover,\n",
       ".sk-estimator-doc-link.fitted:hover,\n",
       "div.sk-label-container:hover .sk-estimator-doc-link.fitted:hover,\n",
       ".sk-estimator-doc-link.fitted:hover {\n",
       "  /* fitted */\n",
       "  background-color: var(--sklearn-color-fitted-level-3);\n",
       "  color: var(--sklearn-color-background);\n",
       "  text-decoration: none;\n",
       "}\n",
       "\n",
       "/* Span, style for the box shown on hovering the info icon */\n",
       ".sk-estimator-doc-link span {\n",
       "  display: none;\n",
       "  z-index: 9999;\n",
       "  position: relative;\n",
       "  font-weight: normal;\n",
       "  right: .2ex;\n",
       "  padding: .5ex;\n",
       "  margin: .5ex;\n",
       "  width: min-content;\n",
       "  min-width: 20ex;\n",
       "  max-width: 50ex;\n",
       "  color: var(--sklearn-color-text);\n",
       "  box-shadow: 2pt 2pt 4pt #999;\n",
       "  /* unfitted */\n",
       "  background: var(--sklearn-color-unfitted-level-0);\n",
       "  border: .5pt solid var(--sklearn-color-unfitted-level-3);\n",
       "}\n",
       "\n",
       ".sk-estimator-doc-link.fitted span {\n",
       "  /* fitted */\n",
       "  background: var(--sklearn-color-fitted-level-0);\n",
       "  border: var(--sklearn-color-fitted-level-3);\n",
       "}\n",
       "\n",
       ".sk-estimator-doc-link:hover span {\n",
       "  display: block;\n",
       "}\n",
       "\n",
       "/* \"?\"-specific style due to the `<a>` HTML tag */\n",
       "\n",
       "#sk-container-id-1 a.estimator_doc_link {\n",
       "  float: right;\n",
       "  font-size: 1rem;\n",
       "  line-height: 1em;\n",
       "  font-family: monospace;\n",
       "  background-color: var(--sklearn-color-background);\n",
       "  border-radius: 1rem;\n",
       "  height: 1rem;\n",
       "  width: 1rem;\n",
       "  text-decoration: none;\n",
       "  /* unfitted */\n",
       "  color: var(--sklearn-color-unfitted-level-1);\n",
       "  border: var(--sklearn-color-unfitted-level-1) 1pt solid;\n",
       "}\n",
       "\n",
       "#sk-container-id-1 a.estimator_doc_link.fitted {\n",
       "  /* fitted */\n",
       "  border: var(--sklearn-color-fitted-level-1) 1pt solid;\n",
       "  color: var(--sklearn-color-fitted-level-1);\n",
       "}\n",
       "\n",
       "/* On hover */\n",
       "#sk-container-id-1 a.estimator_doc_link:hover {\n",
       "  /* unfitted */\n",
       "  background-color: var(--sklearn-color-unfitted-level-3);\n",
       "  color: var(--sklearn-color-background);\n",
       "  text-decoration: none;\n",
       "}\n",
       "\n",
       "#sk-container-id-1 a.estimator_doc_link.fitted:hover {\n",
       "  /* fitted */\n",
       "  background-color: var(--sklearn-color-fitted-level-3);\n",
       "}\n",
       "</style><div id=\"sk-container-id-1\" class=\"sk-top-container\"><div class=\"sk-text-repr-fallback\"><pre>RandomForestClassifier(n_jobs=-1)</pre><b>In a Jupyter environment, please rerun this cell to show the HTML representation or trust the notebook. <br />On GitHub, the HTML representation is unable to render, please try loading this page with nbviewer.org.</b></div><div class=\"sk-container\" hidden><div class=\"sk-item\"><div class=\"sk-estimator fitted sk-toggleable\"><input class=\"sk-toggleable__control sk-hidden--visually\" id=\"sk-estimator-id-1\" type=\"checkbox\" checked><label for=\"sk-estimator-id-1\" class=\"sk-toggleable__label fitted sk-toggleable__label-arrow fitted\">&nbsp;&nbsp;RandomForestClassifier<a class=\"sk-estimator-doc-link fitted\" rel=\"noreferrer\" target=\"_blank\" href=\"https://scikit-learn.org/1.5/modules/generated/sklearn.ensemble.RandomForestClassifier.html\">?<span>Documentation for RandomForestClassifier</span></a><span class=\"sk-estimator-doc-link fitted\">i<span>Fitted</span></span></label><div class=\"sk-toggleable__content fitted\"><pre>RandomForestClassifier(n_jobs=-1)</pre></div> </div></div></div></div>"
      ],
      "text/plain": [
       "RandomForestClassifier(n_jobs=-1)"
      ]
     },
     "execution_count": 14,
     "metadata": {},
     "output_type": "execute_result"
    }
   ],
   "source": [
    "random_forest_classifier = RandomForestClassifier(n_jobs=-1)\n",
    "\n",
    "#Training the Model\n",
    "\n",
    "random_forest_classifier.fit(x_smote,y_smote)"
   ]
  },
  {
   "cell_type": "code",
   "execution_count": 20,
   "id": "e55cfe78-8eb4-4c3a-9704-c30255efc2e7",
   "metadata": {},
   "outputs": [
    {
     "name": "stdout",
     "output_type": "stream",
     "text": [
      "[[70809    11]\n",
      " [   23    89]]\n",
      "              precision    recall  f1-score   support\n",
      "\n",
      "           0       1.00      1.00      1.00     70820\n",
      "           1       0.89      0.79      0.84       112\n",
      "\n",
      "    accuracy                           1.00     70932\n",
      "   macro avg       0.94      0.90      0.92     70932\n",
      "weighted avg       1.00      1.00      1.00     70932\n",
      "\n"
     ]
    }
   ],
   "source": [
    "# Testing the model\n",
    "\n",
    "y_predict = random_forest_classifier.predict(x_test_scaled)\n",
    "\n",
    "print(confusion_matrix(y_test,y_predict))\n",
    "print(classification_report(y_test,y_predict))"
   ]
  },
  {
   "cell_type": "markdown",
   "id": "846ee60f-e653-4860-a19a-359fa080f885",
   "metadata": {},
   "source": [
    "### Precision Recall curve"
   ]
  },
  {
   "cell_type": "code",
   "execution_count": 21,
   "id": "3c5cdaa5-c3ef-49e4-814f-470ce55bfc6f",
   "metadata": {},
   "outputs": [
    {
     "data": {
      "text/plain": [
       "array([0.  , 0.  , 0.  , ..., 0.01, 0.  , 0.  ])"
      ]
     },
     "execution_count": 21,
     "metadata": {},
     "output_type": "execute_result"
    }
   ],
   "source": [
    "# Get predicted probabilities\n",
    "y_probs = random_forest_classifier.predict_proba(x_test_scaled)[:, 1]\n",
    "y_probs"
   ]
  },
  {
   "cell_type": "code",
   "execution_count": 22,
   "id": "234e7de6-5732-42ad-92cd-6a7243f4bd06",
   "metadata": {},
   "outputs": [
    {
     "data": {
      "image/png": "[encoded data removed]",
      "text/plain": [
       "<Figure size 640x480 with 1 Axes>"
      ]
     },
     "metadata": {},
     "output_type": "display_data"
    }
   ],
   "source": [
    "precision,recall,threshold = precision_recall_curve(y_test,y_probs)\n",
    "plt.plot(recall,precision,marker='.', label='Random forest(AUROC=%0.2f)')\n",
    "plt.title('Precision-Recall curve')\n",
    "plt.xlabel('Recall')\n",
    "plt.ylabel('Precision')\n",
    "plt.grid(True)"
   ]
  },
  {
   "cell_type": "markdown",
   "id": "b479a433-078f-4b60-84c2-1a4a2c17d114",
   "metadata": {},
   "source": [
    "#### Area Under the PR Curve"
   ]
  },
  {
   "cell_type": "code",
   "execution_count": 23,
   "id": "3dc0e0b8-3bae-41c2-a0a7-e4ddf86762db",
   "metadata": {},
   "outputs": [
    {
     "name": "stdout",
     "output_type": "stream",
     "text": [
      "PR AUC: 0.82\n"
     ]
    }
   ],
   "source": [
    "pr_auc = auc(recall, precision)\n",
    "print(f'PR AUC: {pr_auc:.2f}')"
   ]
  },
  {
   "cell_type": "markdown",
   "id": "b04ce84e-9f54-48b8-a58b-b7ee3c3305cf",
   "metadata": {},
   "source": [
    "### Based on PR curve and classification report we can say that our model has predicted accurate values on the trained data "
   ]
  },
  {
   "cell_type": "markdown",
   "id": "7f35e9ff-ff62-4c44-8d97-1d74829fc9af",
   "metadata": {},
   "source": [
    "### Feature Importance"
   ]
  },
  {
   "cell_type": "code",
   "execution_count": 27,
   "id": "3f590086-35d9-43d8-9fb7-7956b0d8b704",
   "metadata": {},
   "outputs": [
    {
     "data": {
      "text/plain": [
       "Index(['V1', 'V2', 'V3', 'V4', 'V5', 'V6', 'V7', 'V8', 'V9', 'V10', 'V11',\n",
       "       'V12', 'V13', 'V14', 'V15', 'V16', 'V17', 'V18', 'V19', 'V20', 'V21',\n",
       "       'V22', 'V23', 'V24', 'V25', 'V26', 'V27', 'V28', 'Amount'],\n",
       "      dtype='object')"
      ]
     },
     "execution_count": 27,
     "metadata": {},
     "output_type": "execute_result"
    }
   ],
   "source": [
    "feature_names = x.columns\n",
    "feature_names"
   ]
  },
  {
   "cell_type": "code",
   "execution_count": 28,
   "id": "d9df8904-6096-4937-b853-8c22949a3b7f",
   "metadata": {},
   "outputs": [
    {
     "data": {
      "text/plain": [
       "array([0.01247927, 0.02434403, 0.04463022, 0.08162584, 0.01067152,\n",
       "       0.01313391, 0.0260713 , 0.01338303, 0.0191454 , 0.11693531,\n",
       "       0.07745046, 0.14292197, 0.00786896, 0.18185079, 0.00570827,\n",
       "       0.04629954, 0.07662931, 0.01185947, 0.0150979 , 0.00902656,\n",
       "       0.01100097, 0.00491896, 0.00561135, 0.00470466, 0.00612098,\n",
       "       0.00706688, 0.00820298, 0.00664899, 0.00859119])"
      ]
     },
     "execution_count": 28,
     "metadata": {},
     "output_type": "execute_result"
    }
   ],
   "source": [
    "importances = random_forest_classifier.feature_importances_\n",
    "importances"
   ]
  },
  {
   "cell_type": "code",
   "execution_count": 29,
   "id": "f8600e39-234a-469a-884a-41e1f4bb4920",
   "metadata": {},
   "outputs": [
    {
     "data": {
      "text/html": [
       "<div>\n",
       "<style scoped>\n",
       "    .dataframe tbody tr th:only-of-type {\n",
       "        vertical-align: middle;\n",
       "    }\n",
       "\n",
       "    .dataframe tbody tr th {\n",
       "        vertical-align: top;\n",
       "    }\n",
       "\n",
       "    .dataframe thead th {\n",
       "        text-align: right;\n",
       "    }\n",
       "</style>\n",
       "<table border=\"1\" class=\"dataframe\">\n",
       "  <thead>\n",
       "    <tr style=\"text-align: right;\">\n",
       "      <th></th>\n",
       "      <th>Feature</th>\n",
       "      <th>Importances</th>\n",
       "    </tr>\n",
       "  </thead>\n",
       "  <tbody>\n",
       "    <tr>\n",
       "      <th>0</th>\n",
       "      <td>V14</td>\n",
       "      <td>0.181851</td>\n",
       "    </tr>\n",
       "    <tr>\n",
       "      <th>1</th>\n",
       "      <td>V12</td>\n",
       "      <td>0.142922</td>\n",
       "    </tr>\n",
       "    <tr>\n",
       "      <th>2</th>\n",
       "      <td>V10</td>\n",
       "      <td>0.116935</td>\n",
       "    </tr>\n",
       "    <tr>\n",
       "      <th>3</th>\n",
       "      <td>V4</td>\n",
       "      <td>0.081626</td>\n",
       "    </tr>\n",
       "    <tr>\n",
       "      <th>4</th>\n",
       "      <td>V11</td>\n",
       "      <td>0.077450</td>\n",
       "    </tr>\n",
       "  </tbody>\n",
       "</table>\n",
       "</div>"
      ],
      "text/plain": [
       "  Feature  Importances\n",
       "0     V14     0.181851\n",
       "1     V12     0.142922\n",
       "2     V10     0.116935\n",
       "3      V4     0.081626\n",
       "4     V11     0.077450"
      ]
     },
     "execution_count": 29,
     "metadata": {},
     "output_type": "execute_result"
    }
   ],
   "source": [
    "feature_importances_model = pd.DataFrame({'Feature': feature_names,'Importances': importances}).sort_values(by='Importances',ascending=False,).reset_index(drop=True)\n",
    "feature_importances_model.head()"
   ]
  },
  {
   "cell_type": "markdown",
   "id": "12807055-8d83-48df-b61b-9b6f39319e69",
   "metadata": {},
   "source": [
    "#### Feature importance is a technique used in machine learning to determine which features (or variables) contribute the most to the predictive power of a model."
   ]
  },
  {
   "cell_type": "markdown",
   "id": "e0a3dd72-e76c-400d-a934-df0e565acc8e",
   "metadata": {},
   "source": [
    "# Hyperparameter Tuning "
   ]
  },
  {
   "cell_type": "markdown",
   "id": "46e90e8d-9b8a-4ec7-9ab6-1a0a3b2ed33c",
   "metadata": {},
   "source": [
    "#### Tunning the paramters to improve the model performance"
   ]
  },
  {
   "cell_type": "code",
   "execution_count": 68,
   "id": "ca4f3e6e-9c48-446e-a542-4bd211719efd",
   "metadata": {},
   "outputs": [],
   "source": [
    "from sklearn.model_selection import RandomizedSearchCV"
   ]
  },
  {
   "cell_type": "code",
   "execution_count": 88,
   "id": "5fe8f511-05ab-42b7-ba27-6a2feb32c224",
   "metadata": {},
   "outputs": [],
   "source": [
    "from sklearn.model_selection import RandomizedSearchCV\n",
    "# Number of trees in random forest \n",
    "n_estimators = [500,700]\n",
    "\n",
    "# Maximum depth of each tree\n",
    "max_depth = [20]\n",
    "\n",
    "# minimum samples required to split an internal node\n",
    "min_samples_split = [7,9]\n",
    "\n",
    "# Minimum number of samples required to be at a leaf node.\n",
    "min_samples_leaf = [4,6]"
   ]
  },
  {
   "cell_type": "code",
   "execution_count": 89,
   "id": "7c6b4b02-950b-41b1-acdb-391210285d5c",
   "metadata": {},
   "outputs": [
    {
     "name": "stdout",
     "output_type": "stream",
     "text": [
      "{'n_estimators': [500, 700], 'max_depth': [20], 'min_samples_leaf': [4, 6], 'min_samples_split': [7, 9]}\n"
     ]
    }
   ],
   "source": [
    "param_grid = {'n_estimators':n_estimators,\n",
    "              'max_depth' : max_depth,\n",
    "              'min_samples_leaf' : min_samples_leaf,\n",
    "              'min_samples_split': min_samples_split}\n",
    "\n",
    "print(param_grid)"
   ]
  },
  {
   "cell_type": "code",
   "execution_count": 90,
   "id": "de9c063a-432b-4e89-a79d-bda1954d5758",
   "metadata": {},
   "outputs": [],
   "source": [
    "rf = RandomForestClassifier()\n",
    "rf_grid = RandomizedSearchCV(estimator=rf,param_distributions=param_grid,cv=5,verbose=2,n_jobs=-1,scoring='accuracy')"
   ]
  },
  {
   "cell_type": "code",
   "execution_count": 91,
   "id": "ff0c3bf8-8217-4c67-92ee-f574f51dd141",
   "metadata": {},
   "outputs": [
    {
     "name": "stdout",
     "output_type": "stream",
     "text": [
      "Fitting 5 folds for each of 8 candidates, totalling 40 fits\n",
      "[[70800    20]\n",
      " [   22    90]]\n",
      "              precision    recall  f1-score   support\n",
      "\n",
      "           0       1.00      1.00      1.00     70820\n",
      "           1       0.82      0.80      0.81       112\n",
      "\n",
      "    accuracy                           1.00     70932\n",
      "   macro avg       0.91      0.90      0.91     70932\n",
      "weighted avg       1.00      1.00      1.00     70932\n",
      "\n"
     ]
    }
   ],
   "source": [
    "rf_grid.fit(x_somte,y_somte)\n",
    "\n",
    "y_predict_rf = rf_grid.predict(x_test_scaled)\n",
    "\n",
    "print(confusion_matrix(y_test,y_predict_rf))\n",
    "print(classification_report(y_test,y_predict_rf))"
   ]
  },
  {
   "cell_type": "code",
   "execution_count": 92,
   "id": "9b8350f0-35cc-422c-b3c5-6d797c78d2a5",
   "metadata": {},
   "outputs": [
    {
     "data": {
      "text/plain": [
       "{'n_estimators': 700,\n",
       " 'min_samples_split': 9,\n",
       " 'min_samples_leaf': 4,\n",
       " 'max_depth': 20}"
      ]
     },
     "execution_count": 92,
     "metadata": {},
     "output_type": "execute_result"
    }
   ],
   "source": [
    "rf_grid.best_params_"
   ]
  },
  {
   "cell_type": "code",
   "execution_count": 74,
   "id": "095e1eff-df5b-4721-a4de-f779cc9c7ec7",
   "metadata": {},
   "outputs": [
    {
     "data": {
      "text/plain": [
       "0.9998022905547046"
      ]
     },
     "execution_count": 74,
     "metadata": {},
     "output_type": "execute_result"
    }
   ],
   "source": [
    "rf_grid.best_score_"
   ]
  },
  {
   "cell_type": "code",
   "execution_count": 30,
   "id": "b7019540-547c-4e9e-a101-1895e6eed865",
   "metadata": {},
   "outputs": [
    {
     "data": {
      "text/plain": [
       "array([0.  , 0.  , 0.  , ..., 0.01, 0.  , 0.  ])"
      ]
     },
     "execution_count": 30,
     "metadata": {},
     "output_type": "execute_result"
    }
   ],
   "source": [
    "# Get predicted probabilities\n",
    "y_probs1 = rf_grid.predict_proba(x_test_scaled)[:, 1]\n",
    "y_probs1"
   ]
  },
  {
   "cell_type": "code",
   "execution_count": 31,
   "id": "802689df-48de-40b5-8e43-e70db3995f88",
   "metadata": {},
   "outputs": [
    {
     "data": {
      "image/png": "[encoded data removed]",
      "text/plain": [
       "<Figure size 640x480 with 1 Axes>"
      ]
     },
     "metadata": {},
     "output_type": "display_data"
    }
   ],
   "source": [
    "precision_1,recall_1,threshold_1 = precision_recall_curve(y_test,y_probs_1)\n",
    "plt.plot(recall,precision,marker='.', label='Random forest(AUROC=%0.2f)')\n",
    "plt.title('Precision-Recall curve')\n",
    "plt.xlabel('Recall')\n",
    "plt.ylabel('Precision')\n",
    "plt.grid(True)"
   ]
  },
  {
   "cell_type": "markdown",
   "id": "551b2549-45b6-41e9-8fa4-a6d2f3575f1e",
   "metadata": {},
   "source": [
    "### Pickling the file"
   ]
  },
  {
   "cell_type": "code",
   "execution_count": 15,
   "id": "58da9bba-f72f-4547-b301-6f907f277339",
   "metadata": {},
   "outputs": [],
   "source": [
    "import pickle"
   ]
  },
  {
   "cell_type": "code",
   "execution_count": 16,
   "id": "bff0eb05-868e-41d8-9765-6b16677977d4",
   "metadata": {},
   "outputs": [],
   "source": [
    "pickle.dump(random_forest_classifier,open('classifimodi.pkl','wb'))"
   ]
  },
  {
   "cell_type": "code",
   "execution_count": 32,
   "id": "c88754ca-5d40-4c8f-bf91-bdfa561c8617",
   "metadata": {},
   "outputs": [],
   "source": [
    "pickle_model = pickle.load(open('classifimod.pkl','rb'))"
   ]
  }
 ],
 "metadata": {
  "kernelspec": {
   "display_name": "Python 3 (ipykernel)",
   "language": "python",
   "name": "python3"
  },
  "language_info": {
   "codemirror_mode": {
    "name": "ipython",
    "version": 3
   },
   "file_extension": ".py",
   "mimetype": "text/x-python",
   "name": "python",
   "nbconvert_exporter": "python",
   "pygments_lexer": "ipython3",
   "version": "3.11.5"
  }
 },
 "nbformat": 4,
 "nbformat_minor": 5
}
